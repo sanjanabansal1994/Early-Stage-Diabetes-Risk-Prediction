{
  "cells": [
    {
      "cell_type": "code",
      "execution_count": 13,
      "metadata": {
        "id": "wP2gcdSUl25A"
      },
      "outputs": [],
      "source": [
        "import pandas as pd\n",
        "from xgboost import XGBClassifier\n",
        "from sklearn.model_selection import train_test_split\n",
        "from sklearn.metrics import accuracy_score, confusion_matrix"
      ]
    },
    {
      "cell_type": "code",
      "execution_count": 14,
      "metadata": {
        "colab": {
          "base_uri": "https://localhost:8080/",
          "height": 226
        },
        "id": "Khz8hk3Ll25B",
        "outputId": "84c1e52c-443c-4928-a5c3-0a58616b2231"
      },
      "outputs": [
        {
          "data": {
            "text/html": [
              "<div>\n",
              "<style scoped>\n",
              "    .dataframe tbody tr th:only-of-type {\n",
              "        vertical-align: middle;\n",
              "    }\n",
              "\n",
              "    .dataframe tbody tr th {\n",
              "        vertical-align: top;\n",
              "    }\n",
              "\n",
              "    .dataframe thead th {\n",
              "        text-align: right;\n",
              "    }\n",
              "</style>\n",
              "<table border=\"1\" class=\"dataframe\">\n",
              "  <thead>\n",
              "    <tr style=\"text-align: right;\">\n",
              "      <th></th>\n",
              "      <th>gender</th>\n",
              "      <th>polyuria</th>\n",
              "      <th>polydipsia</th>\n",
              "      <th>sudden_weight_loss</th>\n",
              "      <th>weakness</th>\n",
              "      <th>polyphagia</th>\n",
              "      <th>genital_thrush</th>\n",
              "      <th>visual_blurring</th>\n",
              "      <th>itching</th>\n",
              "      <th>irritability</th>\n",
              "      <th>delayed_healing</th>\n",
              "      <th>partial_paresis</th>\n",
              "      <th>muscle_stiffness</th>\n",
              "      <th>alopecia</th>\n",
              "      <th>obesity</th>\n",
              "      <th>class</th>\n",
              "      <th>age_group__34</th>\n",
              "      <th>age_group_35_49</th>\n",
              "      <th>age_group_50_64</th>\n",
              "      <th>age_group_65_</th>\n",
              "    </tr>\n",
              "  </thead>\n",
              "  <tbody>\n",
              "    <tr>\n",
              "      <th>0</th>\n",
              "      <td>1</td>\n",
              "      <td>0</td>\n",
              "      <td>1</td>\n",
              "      <td>0</td>\n",
              "      <td>1</td>\n",
              "      <td>0</td>\n",
              "      <td>0</td>\n",
              "      <td>0</td>\n",
              "      <td>1</td>\n",
              "      <td>0</td>\n",
              "      <td>1</td>\n",
              "      <td>0</td>\n",
              "      <td>1</td>\n",
              "      <td>1</td>\n",
              "      <td>1</td>\n",
              "      <td>1</td>\n",
              "      <td>0</td>\n",
              "      <td>1</td>\n",
              "      <td>0</td>\n",
              "      <td>0</td>\n",
              "    </tr>\n",
              "    <tr>\n",
              "      <th>1</th>\n",
              "      <td>1</td>\n",
              "      <td>0</td>\n",
              "      <td>0</td>\n",
              "      <td>0</td>\n",
              "      <td>1</td>\n",
              "      <td>0</td>\n",
              "      <td>0</td>\n",
              "      <td>1</td>\n",
              "      <td>0</td>\n",
              "      <td>0</td>\n",
              "      <td>0</td>\n",
              "      <td>1</td>\n",
              "      <td>0</td>\n",
              "      <td>1</td>\n",
              "      <td>0</td>\n",
              "      <td>1</td>\n",
              "      <td>0</td>\n",
              "      <td>0</td>\n",
              "      <td>1</td>\n",
              "      <td>0</td>\n",
              "    </tr>\n",
              "    <tr>\n",
              "      <th>2</th>\n",
              "      <td>1</td>\n",
              "      <td>1</td>\n",
              "      <td>0</td>\n",
              "      <td>0</td>\n",
              "      <td>1</td>\n",
              "      <td>1</td>\n",
              "      <td>0</td>\n",
              "      <td>0</td>\n",
              "      <td>1</td>\n",
              "      <td>0</td>\n",
              "      <td>1</td>\n",
              "      <td>0</td>\n",
              "      <td>1</td>\n",
              "      <td>1</td>\n",
              "      <td>0</td>\n",
              "      <td>1</td>\n",
              "      <td>0</td>\n",
              "      <td>1</td>\n",
              "      <td>0</td>\n",
              "      <td>0</td>\n",
              "    </tr>\n",
              "    <tr>\n",
              "      <th>3</th>\n",
              "      <td>1</td>\n",
              "      <td>0</td>\n",
              "      <td>0</td>\n",
              "      <td>1</td>\n",
              "      <td>1</td>\n",
              "      <td>1</td>\n",
              "      <td>1</td>\n",
              "      <td>0</td>\n",
              "      <td>1</td>\n",
              "      <td>0</td>\n",
              "      <td>1</td>\n",
              "      <td>0</td>\n",
              "      <td>0</td>\n",
              "      <td>0</td>\n",
              "      <td>0</td>\n",
              "      <td>1</td>\n",
              "      <td>0</td>\n",
              "      <td>1</td>\n",
              "      <td>0</td>\n",
              "      <td>0</td>\n",
              "    </tr>\n",
              "    <tr>\n",
              "      <th>4</th>\n",
              "      <td>1</td>\n",
              "      <td>1</td>\n",
              "      <td>1</td>\n",
              "      <td>1</td>\n",
              "      <td>1</td>\n",
              "      <td>1</td>\n",
              "      <td>0</td>\n",
              "      <td>1</td>\n",
              "      <td>1</td>\n",
              "      <td>1</td>\n",
              "      <td>1</td>\n",
              "      <td>1</td>\n",
              "      <td>1</td>\n",
              "      <td>1</td>\n",
              "      <td>1</td>\n",
              "      <td>1</td>\n",
              "      <td>0</td>\n",
              "      <td>0</td>\n",
              "      <td>1</td>\n",
              "      <td>0</td>\n",
              "    </tr>\n",
              "  </tbody>\n",
              "</table>\n",
              "</div>"
            ],
            "text/plain": [
              "   gender  polyuria  polydipsia  sudden_weight_loss  weakness  polyphagia  \\\n",
              "0       1         0           1                   0         1           0   \n",
              "1       1         0           0                   0         1           0   \n",
              "2       1         1           0                   0         1           1   \n",
              "3       1         0           0                   1         1           1   \n",
              "4       1         1           1                   1         1           1   \n",
              "\n",
              "   genital_thrush  visual_blurring  itching  irritability  delayed_healing  \\\n",
              "0               0                0        1             0                1   \n",
              "1               0                1        0             0                0   \n",
              "2               0                0        1             0                1   \n",
              "3               1                0        1             0                1   \n",
              "4               0                1        1             1                1   \n",
              "\n",
              "   partial_paresis  muscle_stiffness  alopecia  obesity  class  age_group__34  \\\n",
              "0                0                 1         1        1      1              0   \n",
              "1                1                 0         1        0      1              0   \n",
              "2                0                 1         1        0      1              0   \n",
              "3                0                 0         0        0      1              0   \n",
              "4                1                 1         1        1      1              0   \n",
              "\n",
              "   age_group_35_49  age_group_50_64  age_group_65_  \n",
              "0                1                0              0  \n",
              "1                0                1              0  \n",
              "2                1                0              0  \n",
              "3                1                0              0  \n",
              "4                0                1              0  "
            ]
          },
          "execution_count": 14,
          "metadata": {},
          "output_type": "execute_result"
        }
      ],
      "source": [
        "# Frist let's load the cleaned up dataset\n",
        "url = \"https://raw.githubusercontent.com/sanjanabansal1994/Early-Stage-Diabetes-Risk-Prediction/mehrdadmalekmo/modeling/data/processed.csv\"\n",
        "dataset = pd.read_csv(url)\n",
        "dataset.head()"
      ]
    },
    {
      "cell_type": "code",
      "execution_count": 15,
      "metadata": {
        "id": "c4hKEZwLmKI8"
      },
      "outputs": [],
      "source": [
        "# Define X (features) and Y (target)\n",
        "X = dataset.drop('class', axis=1)\n",
        "y = dataset['class']"
      ]
    },
    {
      "cell_type": "code",
      "execution_count": 16,
      "metadata": {
        "id": "gwiaQH1imMRo"
      },
      "outputs": [],
      "source": [
        "# Split the data into training and tesing\n",
        "from sklearn.model_selection import train_test_split\n",
        "X_train,X_test,y_train,y_test = train_test_split(X,y,test_size = 0.2,random_state=63)"
      ]
    },
    {
      "cell_type": "code",
      "execution_count": 17,
      "metadata": {
        "colab": {
          "base_uri": "https://localhost:8080/"
        },
        "id": "jpdpNeQWn1Ju",
        "outputId": "e97bb41e-bdbe-4239-c1c8-d8405693453c"
      },
      "outputs": [
        {
          "name": "stdout",
          "output_type": "stream",
          "text": [
            "Accuracy: 0.9711538461538461\n",
            "Confusion Matrix:\n",
            " [[40  1]\n",
            " [ 2 61]]\n"
          ]
        }
      ],
      "source": [
        "# Create an XGBoost Classifier\n",
        "xgb_model = XGBClassifier(random_state=63)\n",
        "\n",
        "# Train the model\n",
        "xgb_model.fit(X_train, y_train)\n",
        "\n",
        "# Make predictions on the test set\n",
        "y_pred = xgb_model.predict(X_test)\n",
        "\n",
        "# Evaluate the model\n",
        "accuracy = accuracy_score(y_test, y_pred)\n",
        "conf_matrix = confusion_matrix(y_test, y_pred)\n",
        "\n",
        "print(\"Accuracy:\", accuracy)\n",
        "print(\"Confusion Matrix:\\n\", conf_matrix)\n"
      ]
    },
    {
      "cell_type": "code",
      "execution_count": 18,
      "metadata": {},
      "outputs": [
        {
          "name": "stdout",
          "output_type": "stream",
          "text": [
            "               Feature  Importance\n",
            "1             polyuria    0.268841\n",
            "2           polydipsia    0.180366\n",
            "18       age_group_65_    0.103524\n",
            "0               gender    0.061905\n",
            "13            alopecia    0.056471\n",
            "9         irritability    0.055048\n",
            "10     delayed_healing    0.034844\n",
            "12    muscle_stiffness    0.032136\n",
            "14             obesity    0.032084\n",
            "15       age_group__34    0.028709\n",
            "6       genital_thrush    0.026134\n",
            "7      visual_blurring    0.023215\n",
            "5           polyphagia    0.019627\n",
            "8              itching    0.018912\n",
            "17     age_group_50_64    0.017139\n",
            "3   sudden_weight_loss    0.014177\n",
            "16     age_group_35_49    0.010058\n",
            "11     partial_paresis    0.008698\n",
            "4             weakness    0.008113\n"
          ]
        }
      ],
      "source": [
        "# Extract feature importance\n",
        "importance_df = pd.DataFrame({'Feature': X.columns, 'Importance': xgb_model.feature_importances_})\n",
        "importance_df = importance_df.sort_values(by='Importance', ascending=False)\n",
        "\n",
        "print(importance_df)"
      ]
    },
    {
      "cell_type": "code",
      "execution_count": null,
      "metadata": {},
      "outputs": [],
      "source": []
    }
  ],
  "metadata": {
    "colab": {
      "provenance": []
    },
    "kernelspec": {
      "display_name": "dsi_participant",
      "language": "python",
      "name": "python3"
    },
    "language_info": {
      "codemirror_mode": {
        "name": "ipython",
        "version": 3
      },
      "file_extension": ".py",
      "mimetype": "text/x-python",
      "name": "python",
      "nbconvert_exporter": "python",
      "pygments_lexer": "ipython3",
      "version": "3.12.6"
    }
  },
  "nbformat": 4,
  "nbformat_minor": 0
}
