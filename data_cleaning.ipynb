{
 "cells": [
  {
   "cell_type": "code",
   "execution_count": null,
   "metadata": {},
   "outputs": [
    {
     "name": "stdout",
     "output_type": "stream",
     "text": [
      "Data cleaning completed. Cleaned dataset saved as 'cleaned_dataset.csv'.\n"
     ]
    }
   ],
   "source": [
    "import pandas as pd\n",
    "import numpy as np\n",
    "\n",
    "# Read the CSV file\n",
    "df = pd.read_csv('/data/raw.csv')\n",
    "\n",
    "# Replace blank values with NaN\n",
    "df = df.replace(r'^\\s*$', np.nan, regex=True)\n",
    "\n",
    "# Replace 'NULL' string with NaN\n",
    "df = df.replace('NULL', np.nan)\n",
    "\n",
    "# Convert numeric columns to appropriate data types\n",
    "numeric_columns = ['Age']\n",
    "df[numeric_columns] = df[numeric_columns].apply(pd.to_numeric, errors='coerce')\n",
    "\n",
    "# Convert categorical columns to appropriate data types\n",
    "categorical_columns = ['Gender', 'Polyuria', 'Polydipsia', 'sudden weight loss', 'weakness', 'Polyphagia', \n",
    "                       'Genital thrush', 'visual blurring', 'Itching', 'Irritability', 'delayed healing', \n",
    "                       'partial paresis', 'muscle stiffness', 'Alopecia', 'Obesity', 'class']\n",
    "df[categorical_columns] = df[categorical_columns].astype('category')\n",
    "\n",
    "# Handle outliers in the Age column (e.g., replace values outside 0-120 range with NaN)\n",
    "df.loc[df['Age'] < 0, 'Age'] = np.nan\n",
    "df.loc[df['Age'] > 120, 'Age'] = np.nan\n",
    "\n",
    "# Replace weird values in categorical columns with NaN\n",
    "for col in categorical_columns:\n",
    "    df[col] = df[col].where(df[col].isin(['Male', 'Female', 'Yes', 'No', 'Positive', 'Negative']), np.nan)\n",
    "\n",
    "# Drop rows with all NaN values\n",
    "df = df.dropna(how='all')\n",
    "\n",
    "# Fill NaN values with appropriate methods\n",
    "df['Age'] = df['Age'].fillna(df['Age'].median())\n",
    "df[categorical_columns] = df[categorical_columns].fillna(df[categorical_columns].mode().iloc[0])\n",
    "\n",
    "# Reset index after cleaning\n",
    "df = df.reset_index(drop=True)\n",
    "\n",
    "# Save the cleaned dataset\n",
    "df.to_csv('cleaned_dataset.csv', index=False)\n",
    "\n",
    "print(\"Data cleaning completed. Cleaned dataset saved as 'cleaned_dataset.csv'.\")\n"
   ]
  }
 ],
 "metadata": {
  "kernelspec": {
   "display_name": "dsi_participant",
   "language": "python",
   "name": "python3"
  },
  "language_info": {
   "codemirror_mode": {
    "name": "ipython",
    "version": 3
   },
   "file_extension": ".py",
   "mimetype": "text/x-python",
   "name": "python",
   "nbconvert_exporter": "python",
   "pygments_lexer": "ipython3",
   "version": "3.9.15"
  }
 },
 "nbformat": 4,
 "nbformat_minor": 2
}
