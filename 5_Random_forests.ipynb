{
  "cells": [
    {
      "cell_type": "code",
      "execution_count": 2,
      "metadata": {
        "id": "wP2gcdSUl25A"
      },
      "outputs": [],
      "source": [
        "import pandas as pd\n",
        "from sklearn.ensemble import RandomForestClassifier\n",
        "from sklearn.model_selection import train_test_split\n",
        "from sklearn.metrics import accuracy_score, confusion_matrix, classification_report\n",
        "import matplotlib.pyplot as plt\n",
        "import seaborn as sns"
      ]
    },
    {
      "cell_type": "code",
      "execution_count": 3,
      "metadata": {
        "colab": {
          "base_uri": "https://localhost:8080/",
          "height": 226
        },
        "id": "Khz8hk3Ll25B",
        "outputId": "30162bb3-1907-4c5a-83a5-c92295c66b75"
      },
      "outputs": [
        {
          "data": {
            "text/html": [
              "<div>\n",
              "<style scoped>\n",
              "    .dataframe tbody tr th:only-of-type {\n",
              "        vertical-align: middle;\n",
              "    }\n",
              "\n",
              "    .dataframe tbody tr th {\n",
              "        vertical-align: top;\n",
              "    }\n",
              "\n",
              "    .dataframe thead th {\n",
              "        text-align: right;\n",
              "    }\n",
              "</style>\n",
              "<table border=\"1\" class=\"dataframe\">\n",
              "  <thead>\n",
              "    <tr style=\"text-align: right;\">\n",
              "      <th></th>\n",
              "      <th>gender</th>\n",
              "      <th>polyuria</th>\n",
              "      <th>polydipsia</th>\n",
              "      <th>sudden_weight_loss</th>\n",
              "      <th>weakness</th>\n",
              "      <th>polyphagia</th>\n",
              "      <th>genital_thrush</th>\n",
              "      <th>visual_blurring</th>\n",
              "      <th>itching</th>\n",
              "      <th>irritability</th>\n",
              "      <th>delayed_healing</th>\n",
              "      <th>partial_paresis</th>\n",
              "      <th>muscle_stiffness</th>\n",
              "      <th>alopecia</th>\n",
              "      <th>obesity</th>\n",
              "      <th>class</th>\n",
              "      <th>age_group__34</th>\n",
              "      <th>age_group_35_49</th>\n",
              "      <th>age_group_50_64</th>\n",
              "      <th>age_group_65_</th>\n",
              "    </tr>\n",
              "  </thead>\n",
              "  <tbody>\n",
              "    <tr>\n",
              "      <th>0</th>\n",
              "      <td>1</td>\n",
              "      <td>0</td>\n",
              "      <td>1</td>\n",
              "      <td>0</td>\n",
              "      <td>1</td>\n",
              "      <td>0</td>\n",
              "      <td>0</td>\n",
              "      <td>0</td>\n",
              "      <td>1</td>\n",
              "      <td>0</td>\n",
              "      <td>1</td>\n",
              "      <td>0</td>\n",
              "      <td>1</td>\n",
              "      <td>1</td>\n",
              "      <td>1</td>\n",
              "      <td>1</td>\n",
              "      <td>0</td>\n",
              "      <td>1</td>\n",
              "      <td>0</td>\n",
              "      <td>0</td>\n",
              "    </tr>\n",
              "    <tr>\n",
              "      <th>1</th>\n",
              "      <td>1</td>\n",
              "      <td>0</td>\n",
              "      <td>0</td>\n",
              "      <td>0</td>\n",
              "      <td>1</td>\n",
              "      <td>0</td>\n",
              "      <td>0</td>\n",
              "      <td>1</td>\n",
              "      <td>0</td>\n",
              "      <td>0</td>\n",
              "      <td>0</td>\n",
              "      <td>1</td>\n",
              "      <td>0</td>\n",
              "      <td>1</td>\n",
              "      <td>0</td>\n",
              "      <td>1</td>\n",
              "      <td>0</td>\n",
              "      <td>0</td>\n",
              "      <td>1</td>\n",
              "      <td>0</td>\n",
              "    </tr>\n",
              "    <tr>\n",
              "      <th>2</th>\n",
              "      <td>1</td>\n",
              "      <td>1</td>\n",
              "      <td>0</td>\n",
              "      <td>0</td>\n",
              "      <td>1</td>\n",
              "      <td>1</td>\n",
              "      <td>0</td>\n",
              "      <td>0</td>\n",
              "      <td>1</td>\n",
              "      <td>0</td>\n",
              "      <td>1</td>\n",
              "      <td>0</td>\n",
              "      <td>1</td>\n",
              "      <td>1</td>\n",
              "      <td>0</td>\n",
              "      <td>1</td>\n",
              "      <td>0</td>\n",
              "      <td>1</td>\n",
              "      <td>0</td>\n",
              "      <td>0</td>\n",
              "    </tr>\n",
              "    <tr>\n",
              "      <th>3</th>\n",
              "      <td>1</td>\n",
              "      <td>0</td>\n",
              "      <td>0</td>\n",
              "      <td>1</td>\n",
              "      <td>1</td>\n",
              "      <td>1</td>\n",
              "      <td>1</td>\n",
              "      <td>0</td>\n",
              "      <td>1</td>\n",
              "      <td>0</td>\n",
              "      <td>1</td>\n",
              "      <td>0</td>\n",
              "      <td>0</td>\n",
              "      <td>0</td>\n",
              "      <td>0</td>\n",
              "      <td>1</td>\n",
              "      <td>0</td>\n",
              "      <td>1</td>\n",
              "      <td>0</td>\n",
              "      <td>0</td>\n",
              "    </tr>\n",
              "    <tr>\n",
              "      <th>4</th>\n",
              "      <td>1</td>\n",
              "      <td>1</td>\n",
              "      <td>1</td>\n",
              "      <td>1</td>\n",
              "      <td>1</td>\n",
              "      <td>1</td>\n",
              "      <td>0</td>\n",
              "      <td>1</td>\n",
              "      <td>1</td>\n",
              "      <td>1</td>\n",
              "      <td>1</td>\n",
              "      <td>1</td>\n",
              "      <td>1</td>\n",
              "      <td>1</td>\n",
              "      <td>1</td>\n",
              "      <td>1</td>\n",
              "      <td>0</td>\n",
              "      <td>0</td>\n",
              "      <td>1</td>\n",
              "      <td>0</td>\n",
              "    </tr>\n",
              "  </tbody>\n",
              "</table>\n",
              "</div>"
            ],
            "text/plain": [
              "   gender  polyuria  polydipsia  sudden_weight_loss  weakness  polyphagia  \\\n",
              "0       1         0           1                   0         1           0   \n",
              "1       1         0           0                   0         1           0   \n",
              "2       1         1           0                   0         1           1   \n",
              "3       1         0           0                   1         1           1   \n",
              "4       1         1           1                   1         1           1   \n",
              "\n",
              "   genital_thrush  visual_blurring  itching  irritability  delayed_healing  \\\n",
              "0               0                0        1             0                1   \n",
              "1               0                1        0             0                0   \n",
              "2               0                0        1             0                1   \n",
              "3               1                0        1             0                1   \n",
              "4               0                1        1             1                1   \n",
              "\n",
              "   partial_paresis  muscle_stiffness  alopecia  obesity  class  age_group__34  \\\n",
              "0                0                 1         1        1      1              0   \n",
              "1                1                 0         1        0      1              0   \n",
              "2                0                 1         1        0      1              0   \n",
              "3                0                 0         0        0      1              0   \n",
              "4                1                 1         1        1      1              0   \n",
              "\n",
              "   age_group_35_49  age_group_50_64  age_group_65_  \n",
              "0                1                0              0  \n",
              "1                0                1              0  \n",
              "2                1                0              0  \n",
              "3                1                0              0  \n",
              "4                0                1              0  "
            ]
          },
          "execution_count": 3,
          "metadata": {},
          "output_type": "execute_result"
        }
      ],
      "source": [
        "# Frist let's load the cleaned up dataset\n",
        "url = \"https://raw.githubusercontent.com/sanjanabansal1994/Early-Stage-Diabetes-Risk-Prediction/mehrdadmalekmo/modeling/data/processed.csv\"\n",
        "dataset = pd.read_csv(url)\n",
        "dataset.head()"
      ]
    },
    {
      "cell_type": "code",
      "execution_count": 4,
      "metadata": {
        "id": "c4hKEZwLmKI8"
      },
      "outputs": [],
      "source": [
        "# Define X (features) and Y (target)\n",
        "X = dataset.drop('class', axis=1)\n",
        "y = dataset['class']"
      ]
    },
    {
      "cell_type": "code",
      "execution_count": 5,
      "metadata": {
        "id": "gwiaQH1imMRo"
      },
      "outputs": [],
      "source": [
        "# Split the data into training and tesing\n",
        "from sklearn.model_selection import train_test_split\n",
        "X_train,X_test,y_train,y_test = train_test_split(X,y,test_size = 0.2,random_state=63)"
      ]
    },
    {
      "cell_type": "code",
      "execution_count": 6,
      "metadata": {
        "colab": {
          "base_uri": "https://localhost:8080/"
        },
        "id": "CPLsGlKdnSyd",
        "outputId": "91290c7e-acf3-416c-a352-a09d8ab2dab5"
      },
      "outputs": [
        {
          "name": "stdout",
          "output_type": "stream",
          "text": [
            "Accuracy: 0.9807692307692307\n",
            "Confusion Matrix:\n",
            " [[40  1]\n",
            " [ 1 62]]\n"
          ]
        }
      ],
      "source": [
        "# Create a Random Forest Classifier\n",
        "rf_model = RandomForestClassifier(n_estimators=100, random_state=63)\n",
        "\n",
        "# Train the model\n",
        "rf_model.fit(X_train, y_train)\n",
        "\n",
        "# Make predictions on the test set\n",
        "y_pred = rf_model.predict(X_test)\n",
        "\n",
        "# Evaluate the model\n",
        "accuracy = accuracy_score(y_test, y_pred)\n",
        "conf_matrix = confusion_matrix(y_test, y_pred)\n",
        "\n",
        "print(\"Accuracy:\", accuracy)\n",
        "print(\"Confusion Matrix:\\n\", conf_matrix)\n"
      ]
    },
    {
      "cell_type": "code",
      "execution_count": 7,
      "metadata": {
        "colab": {
          "base_uri": "https://localhost:8080/"
        },
        "id": "X45c4XF7sNnI",
        "outputId": "6ccc7f55-d148-49fb-c65d-adbd4329f980"
      },
      "outputs": [
        {
          "name": "stdout",
          "output_type": "stream",
          "text": [
            "              precision    recall  f1-score   support\n",
            "\n",
            "           0       0.98      0.98      0.98        41\n",
            "           1       0.98      0.98      0.98        63\n",
            "\n",
            "    accuracy                           0.98       104\n",
            "   macro avg       0.98      0.98      0.98       104\n",
            "weighted avg       0.98      0.98      0.98       104\n",
            "\n"
          ]
        }
      ],
      "source": [
        "# What about other metrics?\n",
        "print(classification_report(y_test, y_pred))"
      ]
    },
    {
      "cell_type": "code",
      "execution_count": 8,
      "metadata": {
        "colab": {
          "base_uri": "https://localhost:8080/",
          "height": 564
        },
        "id": "kNaHzQA_rj7w",
        "outputId": "6435932b-ca1c-4cb3-b58c-13430dd581e3"
      },
      "outputs": [
        {
          "data": {
            "image/png": "[encoded data removed]",
            "text/plain": [
              "<Figure size 800x600 with 2 Axes>"
            ]
          },
          "metadata": {},
          "output_type": "display_data"
        }
      ],
      "source": [
        "# PLot the Confusion Matrix\n",
        "plt.figure(figsize=(8, 6))\n",
        "sns.heatmap(conf_matrix, annot=True, fmt='d', cmap='Blues', xticklabels=['No Diabetes', 'Diabetes'], yticklabels=['No Diabetes', 'Diabetes'])\n",
        "plt.xlabel('Predicted')\n",
        "plt.ylabel('Actual')\n",
        "plt.title('Confusion Matrix (RF)')\n",
        "plt.show()"
      ]
    },
    {
      "cell_type": "code",
      "execution_count": 9,
      "metadata": {
        "id": "FgBVbcxXuRYi"
      },
      "outputs": [
        {
          "name": "stdout",
          "output_type": "stream",
          "text": [
            "               Feature  Importance\n",
            "1             polyuria    0.221035\n",
            "2           polydipsia    0.190477\n",
            "0               gender    0.105930\n",
            "3   sudden_weight_loss    0.056505\n",
            "13            alopecia    0.049794\n",
            "11     partial_paresis    0.049585\n",
            "9         irritability    0.048946\n",
            "10     delayed_healing    0.036369\n",
            "8              itching    0.030539\n",
            "5           polyphagia    0.028912\n",
            "6       genital_thrush    0.025418\n",
            "7      visual_blurring    0.025132\n",
            "4             weakness    0.024459\n",
            "12    muscle_stiffness    0.022987\n",
            "14             obesity    0.021266\n",
            "16     age_group_35_49    0.017160\n",
            "18       age_group_65_    0.015825\n",
            "17     age_group_50_64    0.015693\n",
            "15       age_group__34    0.013969\n"
          ]
        }
      ],
      "source": [
        "# Extract feature importance\n",
        "importance_df = pd.DataFrame({'Feature': X.columns, 'Importance': rf_model.feature_importances_})\n",
        "importance_df = importance_df.sort_values(by='Importance', ascending=False)\n",
        "\n",
        "print(importance_df)"
      ]
    },
    {
      "cell_type": "markdown",
      "metadata": {},
      "source": [
        "Higher values indicate more important features."
      ]
    }
  ],
  "metadata": {
    "colab": {
      "provenance": []
    },
    "kernelspec": {
      "display_name": "dsi_participant",
      "language": "python",
      "name": "python3"
    },
    "language_info": {
      "codemirror_mode": {
        "name": "ipython",
        "version": 3
      },
      "file_extension": ".py",
      "mimetype": "text/x-python",
      "name": "python",
      "nbconvert_exporter": "python",
      "pygments_lexer": "ipython3",
      "version": "3.12.6"
    }
  },
  "nbformat": 4,
  "nbformat_minor": 0
}
